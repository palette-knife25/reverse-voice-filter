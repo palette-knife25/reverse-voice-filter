{
 "cells": [
  {
   "cell_type": "code",
   "execution_count": null,
   "metadata": {},
   "outputs": [],
   "source": [
    "!pip install SpeechRecognition\n",
    "!pip install SoundFile"
   ]
  },
  {
   "cell_type": "markdown",
   "metadata": {},
   "source": [
    "Here you will need to specify following paths:\n",
    "\n",
    "- Path to a file in sf.read()\n",
    "- Path to a file converted to a different wav format in sf.write() (this conversion was required for speech recognition)\n",
    "\n",
    "Repeat this for every type of audio file (mixed/target/result)"
   ]
  },
  {
   "cell_type": "code",
   "execution_count": 183,
   "metadata": {},
   "outputs": [
    {
     "name": "stdout",
     "output_type": "stream",
     "text": [
      "noisy speaker: originally the most valuable of these are found from the\n",
      "after voicefilter: Kelley Blue Book\n",
      "target speaker: originally the most valuable of these were found in the\n"
     ]
    }
   ],
   "source": [
    "import speech_recognition as sr\n",
    "import numpy as np\n",
    "import soundfile as sf\n",
    "\n",
    "#MIXED\n",
    "data1, samplerate  = sf.read('000037-mixed.wav')\n",
    "sf.write('new_result_mixed37.wav', data1, 16000, subtype='PCM_16')\n",
    "\n",
    "r = sr.Recognizer()\n",
    "with sr.WavFile(\"new_result_mixed37.wav\") as source: # use \"test.wav\" as the audio source\n",
    "    audio = r.record(source) # extract audio data from the file\n",
    "try:\n",
    "    print(\"noisy speaker: \" + r.recognize(audio)) # recognize speech using Google Speech Recognition\n",
    "except LookupError: # speech is unintelligible\n",
    "    print(\"noisy speaker: Could not understand audio\")\n",
    "    \n",
    "    \n",
    "    \n",
    "#RESULT\n",
    "data, samplerate  = sf.read('result37.wav')\n",
    "sf.write('new_result37.wav', data, 16000, subtype='PCM_16')\n",
    "\n",
    "import numpy as np\n",
    "r = sr.Recognizer()\n",
    "with sr.WavFile(\"new_result37.wav\") as source: # use \"test.wav\" as the audio source\n",
    "    audio = r.record(source) # extract audio data from the file\n",
    "try:\n",
    "    print(\"after voicefilter: \" + r.recognize(audio)) # recognize speech using Google Speech Recognition\n",
    "except LookupError: # speech is unintelligible\n",
    "    print(\"after voicefilter: Could not understand audio\")\n",
    "    \n",
    "    \n",
    "    \n",
    "#TARGETS\n",
    "data3, samplerate  = sf.read('000037-target.wav')\n",
    "sf.write('000037-target.wav', data3, 16000, subtype='PCM_16')\n",
    "\n",
    "r = sr.Recognizer()\n",
    "with sr.WavFile(\"000037-target.wav\") as source: # use \"test.wav\" as the audio source\n",
    "    audio = r.record(source) # extract audio data from the file\n",
    "try:\n",
    "    print(\"target speaker: \" + r.recognize(audio)) # recognize speech using Google Speech Recognition\n",
    "except LookupError: # speech is unintelligible\n",
    "    print(\"target speaker: Could not understand audio\")"
   ]
  },
  {
   "cell_type": "code",
   "execution_count": null,
   "metadata": {},
   "outputs": [],
   "source": []
  }
 ],
 "metadata": {
  "kernelspec": {
   "display_name": "Python 3",
   "language": "python",
   "name": "python3"
  },
  "language_info": {
   "codemirror_mode": {
    "name": "ipython",
    "version": 3
   },
   "file_extension": ".py",
   "mimetype": "text/x-python",
   "name": "python",
   "nbconvert_exporter": "python",
   "pygments_lexer": "ipython3",
   "version": "3.7.6"
  }
 },
 "nbformat": 4,
 "nbformat_minor": 4
}
